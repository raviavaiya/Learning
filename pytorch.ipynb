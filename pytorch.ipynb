{
 "cells": [
  {
   "cell_type": "code",
   "execution_count": 1,
   "id": "10cd6b29",
   "metadata": {},
   "outputs": [
    {
     "name": "stderr",
     "output_type": "stream",
     "text": [
      "d:\\Learning\\lenv\\Lib\\site-packages\\tqdm\\auto.py:21: TqdmWarning: IProgress not found. Please update jupyter and ipywidgets. See https://ipywidgets.readthedocs.io/en/stable/user_install.html\n",
      "  from .autonotebook import tqdm as notebook_tqdm\n",
      "No model was supplied, defaulted to google-t5/t5-base and revision a9723ea (https://huggingface.co/google-t5/t5-base).\n",
      "Using a pipeline without specifying a model name and revision in production is not recommended.\n",
      "d:\\Learning\\lenv\\Lib\\site-packages\\huggingface_hub\\file_download.py:143: UserWarning: `huggingface_hub` cache-system uses symlinks by default to efficiently store duplicated files but your machine does not support them in C:\\Users\\ravia\\.cache\\huggingface\\hub\\models--google-t5--t5-base. Caching files will still work but in a degraded version that might require more space on your disk. This warning can be disabled by setting the `HF_HUB_DISABLE_SYMLINKS_WARNING` environment variable. For more details, see https://huggingface.co/docs/huggingface_hub/how-to-cache#limitations.\n",
      "To support symlinks on Windows, you either need to activate Developer Mode or to run Python as an administrator. In order to activate developer mode, see this article: https://docs.microsoft.com/en-us/windows/apps/get-started/enable-your-device-for-development\n",
      "  warnings.warn(message)\n",
      "Xet Storage is enabled for this repo, but the 'hf_xet' package is not installed. Falling back to regular HTTP download. For better performance, install the package with: `pip install huggingface_hub[hf_xet]` or `pip install hf_xet`\n",
      "Device set to use cpu\n"
     ]
    },
    {
     "name": "stdout",
     "output_type": "stream",
     "text": [
      "[{'translation_text': \"J'aime l'apprentissage approfondi.\"}]\n"
     ]
    }
   ],
   "source": [
    "from transformers import pipeline\n",
    "\n",
    "translator = pipeline(\"translation_en_to_fr\")\n",
    "result = translator(\"I love deep learning.\")\n",
    "print(result)\n"
   ]
  },
  {
   "cell_type": "code",
   "execution_count": 3,
   "id": "ceb32050",
   "metadata": {},
   "outputs": [],
   "source": [
    "import numpy as np\n",
    "\n",
    "# Scalar\n",
    "a = np.array(5)             # 0D\n",
    "# Vector\n",
    "b = np.array([1, 2, 3])     # 1D\n",
    "# Matrix\n",
    "c = np.array([[1, 2], [3, 4]])  # 2D\n",
    "# 3D tensor\n",
    "d = np.array([[[1, 2], [3, 4]], [[5, 6], [7, 8]]])\n"
   ]
  },
  {
   "cell_type": "code",
   "execution_count": 5,
   "id": "93671f3d",
   "metadata": {},
   "outputs": [
    {
     "name": "stdout",
     "output_type": "stream",
     "text": [
      "5 [1 2 3] [[1 2]\n",
      " [3 4]] [[[1 2]\n",
      "  [3 4]]\n",
      "\n",
      " [[5 6]\n",
      "  [7 8]]]\n"
     ]
    }
   ],
   "source": [
    "print(a,b,c,d )"
   ]
  },
  {
   "cell_type": "code",
   "execution_count": 6,
   "id": "fd464d77",
   "metadata": {},
   "outputs": [
    {
     "name": "stdout",
     "output_type": "stream",
     "text": [
      "[[ 6  8]\n",
      " [10 12]]\n",
      "[[-4 -4]\n",
      " [-4 -4]]\n"
     ]
    }
   ],
   "source": [
    "x = np.array([[1, 2], [3, 4]])\n",
    "y = np.array([[5, 6], [7, 8]])\n",
    "\n",
    "print(x + y)  # Element-wise addition\n",
    "print(x - y)  # Element-wise subtraction"
   ]
  },
  {
   "cell_type": "code",
   "execution_count": 7,
   "id": "ef0ed19a",
   "metadata": {},
   "outputs": [
    {
     "name": "stdout",
     "output_type": "stream",
     "text": [
      "[[ 5 12]\n",
      " [21 32]]\n"
     ]
    }
   ],
   "source": [
    "print(x * y)\n"
   ]
  },
  {
   "cell_type": "code",
   "execution_count": 8,
   "id": "0d756b33",
   "metadata": {},
   "outputs": [
    {
     "name": "stdout",
     "output_type": "stream",
     "text": [
      "[[19 22]\n",
      " [43 50]]\n"
     ]
    }
   ],
   "source": [
    "print(np.dot(x, y))  # Matrix multiplication\n"
   ]
  },
  {
   "cell_type": "code",
   "execution_count": 9,
   "id": "5094ab93",
   "metadata": {},
   "outputs": [
    {
     "name": "stdout",
     "output_type": "stream",
     "text": [
      "[[1 2 3]\n",
      " [4 5 6]]\n"
     ]
    }
   ],
   "source": [
    "z = np.array([1, 2, 3, 4, 5, 6])\n",
    "z = z.reshape((2, 3))  # Convert 1D to 2D\n",
    "print(z)"
   ]
  },
  {
   "cell_type": "code",
   "execution_count": 10,
   "id": "f6452c79",
   "metadata": {},
   "outputs": [
    {
     "name": "stdout",
     "output_type": "stream",
     "text": [
      "[[1 3]\n",
      " [2 4]]\n"
     ]
    }
   ],
   "source": [
    "print(x.T)  # Flip rows and columns\n"
   ]
  },
  {
   "cell_type": "code",
   "execution_count": 11,
   "id": "f301cc01",
   "metadata": {},
   "outputs": [
    {
     "name": "stdout",
     "output_type": "stream",
     "text": [
      "10\n",
      "2.5\n",
      "4\n"
     ]
    }
   ],
   "source": [
    "print(x.sum())      # Sum of all elements\n",
    "print(x.mean())     # Average\n",
    "print(x.max())      # Max value\n"
   ]
  },
  {
   "cell_type": "code",
   "execution_count": 12,
   "id": "4526701c",
   "metadata": {},
   "outputs": [
    {
     "name": "stdout",
     "output_type": "stream",
     "text": [
      "(2, 2)\n",
      "2\n"
     ]
    }
   ],
   "source": [
    "print(x.shape)      # (2, 2)\n",
    "print(x.ndim)       # 2 (2D)\n"
   ]
  },
  {
   "cell_type": "code",
   "execution_count": 13,
   "id": "27226548",
   "metadata": {},
   "outputs": [],
   "source": [
    "import torch\n",
    "\n",
    "# 1D tensor\n",
    "a = torch.tensor([1.0, 2.0, 3.0])\n",
    "\n",
    "# 2D tensor\n",
    "b = torch.tensor([[1, 2], [3, 4]])\n"
   ]
  },
  {
   "cell_type": "code",
   "execution_count": 14,
   "id": "345a556e",
   "metadata": {},
   "outputs": [
    {
     "name": "stdout",
     "output_type": "stream",
     "text": [
      "tensor([1., 2., 3.])\n",
      "tensor([[1, 2],\n",
      "        [3, 4]])\n"
     ]
    }
   ],
   "source": [
    "print(a)\n",
    "print(b)"
   ]
  },
  {
   "cell_type": "code",
   "execution_count": 15,
   "id": "f372115a",
   "metadata": {},
   "outputs": [],
   "source": [
    "# Add\n",
    "c = a + a\n",
    "\n",
    "# Multiply\n",
    "d = b * 2\n",
    "\n",
    "# Matrix multiply\n",
    "e = torch.matmul(b, b)\n"
   ]
  },
  {
   "cell_type": "code",
   "execution_count": 16,
   "id": "5ac6bd90",
   "metadata": {},
   "outputs": [
    {
     "name": "stdout",
     "output_type": "stream",
     "text": [
      "torch.Size([5, 1, 20])\n",
      "torch.Size([1, 1, 20])\n"
     ]
    }
   ],
   "source": [
    "import torch\n",
    "import torch.nn as nn\n",
    "\n",
    "rnn = nn.RNN(input_size=10, hidden_size=20, num_layers=1)\n",
    "\n",
    "# (sequence_len, batch_size, input_size)\n",
    "x = torch.randn(5, 1, 10)\n",
    "h0 = torch.zeros(1, 1, 20)  # initial hidden state\n",
    "\n",
    "output, hn = rnn(x, h0)\n",
    "\n",
    "print(output.shape)  # Output at each time step\n",
    "print(hn.shape)      # Final hidden state\n"
   ]
  },
  {
   "cell_type": "code",
   "execution_count": 17,
   "id": "dbb2dfc8",
   "metadata": {},
   "outputs": [],
   "source": [
    "class SimpleCNN(nn.Module):\n",
    "    def __init__(self):\n",
    "        super(SimpleCNN, self).__init__()\n",
    "        self.conv1 = nn.Conv2d(1, 16, 3)  # 1 input channel (grayscale), 16 filters\n",
    "        self.pool = nn.MaxPool2d(2, 2)\n",
    "        self.fc1 = nn.Linear(16 * 13 * 13, 10)  # for 28x28 image\n",
    "\n",
    "    def forward(self, x):\n",
    "        x = self.pool(torch.relu(self.conv1(x)))\n",
    "        x = x.view(-1, 16 * 13 * 13)\n",
    "        x = self.fc1(x)\n",
    "        return x\n"
   ]
  },
  {
   "cell_type": "code",
   "execution_count": 3,
   "id": "5a164ccf",
   "metadata": {},
   "outputs": [
    {
     "name": "stdout",
     "output_type": "stream",
     "text": [
      "[[ 6.76568821e-02  6.34959117e-02  4.87131439e-02  7.93049559e-02\n",
      "   3.74480635e-02  2.65279901e-03  3.93749736e-02 -7.09847594e-03\n",
      "   5.93614466e-02  3.15370448e-02  6.00980595e-02 -5.29052205e-02\n",
      "   4.06067669e-02 -2.59308070e-02  2.98428256e-02  1.12692453e-03\n",
      "   7.35148787e-02 -5.03818952e-02 -1.22386634e-01  2.37028133e-02\n",
      "   2.97265332e-02  4.24768552e-02  2.56337691e-02  1.99518725e-03\n",
      "  -5.69191128e-02 -2.71598194e-02 -3.29035521e-02  6.60248771e-02\n",
      "   1.19007163e-01 -4.58791517e-02 -7.26214498e-02 -3.25840227e-02\n",
      "   5.23413569e-02  4.50553037e-02  8.25298857e-03  3.67024094e-02\n",
      "  -1.39415646e-02  6.53918535e-02 -2.64272671e-02  2.06397686e-04\n",
      "  -1.36643434e-02 -3.62810977e-02 -1.95043795e-02 -2.89738216e-02\n",
      "   3.94270122e-02 -8.84090662e-02  2.62427074e-03  1.36713488e-02\n",
      "   4.83062565e-02 -3.11566107e-02 -1.17329188e-01 -5.11690341e-02\n",
      "  -8.85288268e-02 -2.18962803e-02  1.42986607e-02  4.44167592e-02\n",
      "  -1.34814996e-02  7.43392557e-02  2.66383160e-02 -1.98762398e-02\n",
      "   1.79191250e-02 -1.06052058e-02 -9.04262587e-02  2.13269107e-02\n",
      "   1.41204849e-01 -6.47177268e-03 -1.40381162e-03 -1.53609626e-02\n",
      "  -8.73571411e-02  7.22174197e-02  2.01402809e-02  4.25587781e-02\n",
      "  -3.49014103e-02  3.19512386e-04 -8.02970603e-02 -3.27472650e-02\n",
      "   2.85268631e-02 -5.13657816e-02  1.09389164e-01  8.19327682e-02\n",
      "  -9.84040424e-02 -9.34095532e-02 -1.51292244e-02  4.51248437e-02\n",
      "   4.94171865e-02 -2.51867976e-02  1.57077052e-02 -1.29290715e-01\n",
      "   5.31890662e-03  4.02338477e-03 -2.34571584e-02 -6.72982410e-02\n",
      "   2.92280205e-02 -2.60845162e-02  1.30624939e-02 -3.11663095e-02\n",
      "  -4.82713357e-02 -5.58859631e-02 -3.87505218e-02  1.20010853e-01\n",
      "  -1.03924619e-02  4.89704870e-02  5.53537272e-02  4.49358821e-02\n",
      "  -4.00974229e-03 -1.02959752e-01 -2.92968899e-02 -5.83402514e-02\n",
      "   2.70472206e-02 -2.20168792e-02 -7.22241178e-02 -4.13869917e-02\n",
      "  -1.93298031e-02  2.73329043e-03  2.77012121e-04 -9.67588797e-02\n",
      "  -1.00574754e-01 -1.41923185e-02 -8.07891861e-02  4.53925095e-02\n",
      "   2.45042071e-02  5.97613826e-02 -7.38185421e-02  1.19843995e-02\n",
      "  -6.63403794e-02 -7.69045502e-02  3.85157764e-02 -5.59362183e-33\n",
      "   2.80013923e-02 -5.60784824e-02 -4.86601591e-02  2.15569139e-02\n",
      "   6.01980872e-02 -4.81402576e-02 -3.50247212e-02  1.93314161e-02\n",
      "  -1.75152160e-02 -3.89210619e-02 -3.81070049e-03 -1.70287676e-02\n",
      "   2.82099973e-02  1.28290951e-02  4.71600704e-02  6.21030293e-02\n",
      "  -6.43588752e-02  1.29285589e-01 -1.31231584e-02  5.23069091e-02\n",
      "  -3.73680778e-02  2.89094672e-02 -1.68981124e-02 -2.37330701e-02\n",
      "  -3.33491415e-02 -5.16762435e-02  1.55356834e-02  2.08802950e-02\n",
      "  -1.25372130e-02  4.59579006e-02  3.72719951e-02  2.80566886e-02\n",
      "  -5.90004697e-02 -1.16988299e-02  4.92182635e-02  4.70329225e-02\n",
      "   7.35487938e-02 -3.70529965e-02  3.98458401e-03  1.06411465e-02\n",
      "  -1.61505857e-04 -5.27166501e-02  2.75928043e-02 -3.92920971e-02\n",
      "   8.44717696e-02  4.86860722e-02 -4.85869637e-03  1.79948695e-02\n",
      "  -4.28569466e-02  1.23375226e-02  6.39950763e-03  4.04823236e-02\n",
      "   1.48887197e-02 -1.53941233e-02  7.62948170e-02  2.37043966e-02\n",
      "   4.45237160e-02  5.08195609e-02 -2.31256569e-03 -1.88737046e-02\n",
      "  -1.23335272e-02  4.66001667e-02 -5.63437976e-02  6.29927665e-02\n",
      "  -3.15535180e-02  3.24912444e-02  2.34673601e-02 -6.55438229e-02\n",
      "   2.01709364e-02  2.57082935e-02 -1.23869013e-02 -8.36488325e-03\n",
      "  -6.64377958e-02  9.43073630e-02 -3.57093364e-02 -3.42483260e-02\n",
      "  -6.66355947e-03 -8.01521912e-03 -3.09711546e-02  4.33012173e-02\n",
      "  -8.21401272e-03 -1.50795043e-01  3.07691935e-02  4.00719494e-02\n",
      "  -3.79293226e-02  1.93211960e-03  4.00530845e-02 -8.77074897e-02\n",
      "  -3.68491299e-02  8.57959222e-03 -3.19252126e-02 -1.25257969e-02\n",
      "   7.35540241e-02  1.34738965e-03  2.05918662e-02  2.71098091e-33\n",
      "  -5.18577062e-02  5.78361005e-02 -9.18984860e-02  3.94421443e-02\n",
      "   1.05576515e-01 -1.96912009e-02  6.18402362e-02 -7.63465166e-02\n",
      "   2.40880270e-02  9.40049514e-02 -1.16535418e-01  3.71198617e-02\n",
      "   5.22425212e-02 -3.95853212e-03  5.72214387e-02  5.32854116e-03\n",
      "   1.24016851e-01  1.39022358e-02 -1.10249668e-02  3.56053151e-02\n",
      "  -3.30754369e-02  8.16574246e-02 -1.52003700e-02  6.05585463e-02\n",
      "  -6.01397641e-02  3.26102376e-02 -3.48296650e-02 -1.69881675e-02\n",
      "  -9.74907354e-02 -2.71484405e-02  1.74707524e-03 -7.68982545e-02\n",
      "  -4.31857966e-02 -1.89984906e-02 -2.91661099e-02  5.77488318e-02\n",
      "   2.41821483e-02 -1.16902115e-02 -6.21435270e-02  2.84351762e-02\n",
      "  -2.37522239e-04 -2.51783505e-02  4.39638412e-03  8.12839866e-02\n",
      "   3.64184082e-02 -6.04006499e-02 -3.65516730e-02 -7.93748349e-02\n",
      "  -5.08527132e-03  6.69698790e-02 -1.17784359e-01  3.23743448e-02\n",
      "  -4.71253060e-02 -1.34459333e-02 -9.48445052e-02  8.24958365e-03\n",
      "  -1.06748929e-02 -6.81881458e-02  1.11821061e-03  2.48020198e-02\n",
      "  -6.35889396e-02  2.84492914e-02 -2.61303820e-02  8.58111680e-02\n",
      "   1.14682287e-01 -5.35345599e-02 -5.63588366e-02  4.26008925e-02\n",
      "   1.09454431e-02  2.09578760e-02  1.00131154e-01  3.26050892e-02\n",
      "  -1.84208751e-01 -3.93208638e-02 -6.91455007e-02 -6.38105050e-02\n",
      "  -6.56386092e-02 -6.41252240e-03 -4.79612127e-02 -7.68133253e-02\n",
      "   2.95384582e-02 -2.29948293e-02  4.17036936e-02 -2.50048023e-02\n",
      "  -4.54503438e-03 -4.17136364e-02 -1.32289743e-02 -6.38357475e-02\n",
      "  -2.46471236e-03 -1.37337446e-02  1.68976970e-02 -6.30398095e-02\n",
      "   8.98880959e-02  4.18170653e-02 -1.85687412e-02 -1.80442203e-08\n",
      "  -1.67998094e-02 -3.21577340e-02  6.30383715e-02 -4.13091704e-02\n",
      "   4.44819182e-02  2.02466967e-03  6.29592687e-02 -5.17373811e-03\n",
      "  -1.00444257e-02 -3.05639878e-02  3.52672748e-02  5.58581576e-02\n",
      "  -4.67124507e-02  3.45102660e-02  3.29578109e-02  4.30114605e-02\n",
      "   2.94360574e-02 -3.03164106e-02 -1.71107929e-02  7.37484694e-02\n",
      "  -5.47909699e-02  2.77514905e-02  6.20170543e-03  1.58800315e-02\n",
      "   3.42978910e-02 -5.15750982e-03  2.35079546e-02  7.53135532e-02\n",
      "   1.92842856e-02  3.36197317e-02  5.09103388e-02  1.52497083e-01\n",
      "   1.64207797e-02  2.70528123e-02  3.75162363e-02  2.18552873e-02\n",
      "   5.66333868e-02 -3.95746529e-02  7.12313205e-02 -5.41377328e-02\n",
      "   1.03764469e-03  2.11853106e-02 -3.56309265e-02  1.09016955e-01\n",
      "   2.76535098e-03  3.13997231e-02  1.38419773e-03 -3.45738642e-02\n",
      "  -4.59277555e-02  2.88083088e-02  7.16903480e-03  4.84684743e-02\n",
      "   2.61018202e-02 -9.44072474e-03  2.82169897e-02  3.48724052e-02\n",
      "   3.69098783e-02 -8.58949218e-03 -3.53205465e-02 -2.47856919e-02\n",
      "  -1.91921555e-02  3.80707271e-02  5.99653646e-02 -4.22287174e-02]\n",
      " [ 8.64385962e-02  1.02762640e-01  5.39455563e-03  2.04442022e-03\n",
      "  -9.96338576e-03  2.53855139e-02  4.92875837e-02 -3.06265727e-02\n",
      "   6.87254742e-02  1.01365978e-02  7.75397643e-02 -9.00807083e-02\n",
      "   6.10621599e-03 -5.69898747e-02  1.41714308e-02  2.80491672e-02\n",
      "  -8.68464932e-02  7.64398798e-02 -1.03491299e-01 -6.77437708e-02\n",
      "   6.99946508e-02  8.44251141e-02 -7.24914856e-03  1.04770381e-02\n",
      "   1.34020550e-02  6.77576661e-02 -9.42086205e-02 -3.71689871e-02\n",
      "   5.22617474e-02 -3.10853459e-02 -9.63406861e-02  1.57717038e-02\n",
      "   2.57866848e-02  7.85245001e-02  7.89949447e-02  1.91516057e-02\n",
      "   1.64356641e-02  3.10084829e-03  3.81311364e-02  2.37090625e-02\n",
      "   1.05389506e-02 -4.40645479e-02  4.41738591e-02 -2.58728005e-02\n",
      "   6.15378581e-02 -4.05427665e-02 -8.64140093e-02  3.19722481e-02\n",
      "  -8.90666444e-04 -2.44437028e-02 -9.19721574e-02  2.33939458e-02\n",
      "  -8.30293596e-02  4.41510379e-02 -2.49692630e-02  6.23019971e-02\n",
      "  -1.30356452e-03  7.51395375e-02  2.46384759e-02 -6.47244602e-02\n",
      "  -1.17727757e-01  3.83392163e-02 -9.11767408e-02  6.35446236e-02\n",
      "   7.62739778e-02 -8.80240798e-02  9.54558980e-03 -4.69717458e-02\n",
      "  -8.41740593e-02  3.88823971e-02 -1.14393532e-01  6.28856663e-03\n",
      "  -3.49361934e-02  2.39750445e-02 -3.31317112e-02 -1.57243852e-02\n",
      "  -3.78955565e-02 -8.81250110e-03  7.06118867e-02  3.28066200e-02\n",
      "   2.03669094e-03 -1.12278976e-01  6.79721544e-03  1.22765694e-02\n",
      "   3.35303545e-02 -1.36200720e-02 -2.25489996e-02 -2.25229245e-02\n",
      "  -2.03194916e-02  5.04297279e-02 -7.48652741e-02 -8.22822228e-02\n",
      "   7.65962824e-02  4.93392274e-02 -3.75553221e-02  1.44634591e-02\n",
      "  -5.72457798e-02 -1.79954451e-02  1.09697938e-01  1.19462803e-01\n",
      "   8.09239573e-04  6.17057420e-02  3.26322094e-02 -1.30780071e-01\n",
      "  -1.48636639e-01 -6.16232716e-02  4.33885828e-02  2.67129187e-02\n",
      "   1.39785931e-02 -3.94002497e-02 -2.52711866e-02  3.87740647e-03\n",
      "   3.58664729e-02 -6.15420491e-02  3.76660489e-02  2.67565325e-02\n",
      "  -3.82659733e-02 -3.54793221e-02 -2.39227246e-02  8.67977142e-02\n",
      "  -1.84063129e-02  7.71039277e-02  1.39862252e-03  7.00382814e-02\n",
      "  -4.77877744e-02 -7.89820030e-02  5.10814413e-02 -2.99868333e-33\n",
      "  -3.91645916e-02 -2.56211474e-03  1.65210571e-02  9.48940776e-03\n",
      "  -5.66219166e-02  6.57783374e-02 -4.77002785e-02  1.11662149e-02\n",
      "  -5.73558398e-02 -9.16259363e-03 -2.17521265e-02 -5.59531823e-02\n",
      "  -1.11422949e-02  9.32793245e-02  1.66765265e-02 -1.36723565e-02\n",
      "   4.34388742e-02  1.87245233e-03  7.29948143e-03  5.16331792e-02\n",
      "   4.80608493e-02  1.35341465e-01 -1.71738788e-02 -1.29698329e-02\n",
      "  -7.50109628e-02  2.61107739e-02  2.69802380e-02  7.83041876e-04\n",
      "  -4.87270094e-02  1.17842834e-02 -4.59580496e-02 -4.83213328e-02\n",
      "  -1.95671152e-02  1.93889327e-02  1.98807418e-02  1.67432502e-02\n",
      "   9.87801254e-02 -2.74087712e-02  2.34809034e-02  3.70231457e-03\n",
      "  -6.14514723e-02 -1.21228199e-03 -9.50475689e-03  9.25154053e-03\n",
      "   2.38443874e-02  8.61232057e-02  2.26789862e-02  5.45142510e-04\n",
      "   3.47129516e-02  6.25466509e-03 -6.92775566e-03  3.92400175e-02\n",
      "   1.15675014e-02  3.26280035e-02  6.22155443e-02  2.76114531e-02\n",
      "   1.86883267e-02  3.55805904e-02  4.11795676e-02  1.54782301e-02\n",
      "   4.22691442e-02  3.82248461e-02  1.00313257e-02 -2.83245929e-02\n",
      "   4.47052307e-02 -4.10458632e-02 -4.50551789e-03 -5.44734113e-02\n",
      "   2.62321010e-02  1.79862399e-02 -1.23118743e-01 -4.66952026e-02\n",
      "  -1.35913072e-02  6.46710768e-02  3.57345422e-03 -1.22233620e-02\n",
      "  -1.79382227e-02 -2.55502034e-02  2.37223785e-02  4.08667186e-03\n",
      "  -6.51475936e-02  4.43651602e-02  4.68595773e-02 -3.25174630e-02\n",
      "   4.02272446e-03 -3.97602236e-03  1.11939488e-02 -9.95597839e-02\n",
      "   3.33168544e-02  8.01061392e-02  9.42691863e-02 -6.38293922e-02\n",
      "   3.23151648e-02 -5.13553135e-02 -7.49881379e-03  5.30049734e-34\n",
      "  -4.13194969e-02  9.49646980e-02 -1.06401429e-01  4.96590920e-02\n",
      "  -3.41913216e-02 -3.16745639e-02 -1.71555858e-02  1.70102087e-03\n",
      "   5.79757802e-02 -1.21777621e-03 -1.68536026e-02 -5.16912341e-02\n",
      "   5.52998893e-02 -3.42647843e-02  3.08179352e-02 -3.10480911e-02\n",
      "   9.27532539e-02  3.72663289e-02 -2.37398297e-02  4.45893891e-02\n",
      "   1.46153271e-02  1.16239354e-01 -5.00112846e-02  3.88716571e-02\n",
      "   4.24747914e-03  2.56976765e-02  3.27243656e-02  4.29907367e-02\n",
      "  -1.36144655e-02  2.56122276e-02  1.06262648e-02 -8.46863538e-02\n",
      "  -9.52982381e-02  1.08399875e-01 -7.51599744e-02 -1.37773519e-02\n",
      "   6.37338310e-02 -4.49671224e-03 -3.25321369e-02  6.23613931e-02\n",
      "   3.48053426e-02 -3.54922488e-02 -2.00222433e-02  3.66608389e-02\n",
      "  -2.48837043e-02  1.01818340e-02 -7.01233223e-02 -4.31951284e-02\n",
      "   2.95332558e-02 -2.94936064e-04 -3.45386937e-02  1.46675920e-02\n",
      "  -9.83970240e-02 -4.70488258e-02 -8.85495543e-03 -8.89913812e-02\n",
      "   3.50996107e-02 -1.29601970e-01 -4.98865917e-02 -6.12047315e-02\n",
      "  -5.97797409e-02  9.46318824e-03  4.91217673e-02 -7.75026679e-02\n",
      "   8.09727311e-02 -4.79257591e-02  2.34377990e-03  7.57031515e-02\n",
      "  -2.40175836e-02 -1.52546065e-02  4.86738533e-02 -3.85968313e-02\n",
      "  -7.04831630e-02 -1.20348074e-02 -3.88790779e-02 -7.76016638e-02\n",
      "  -1.07243871e-02  1.04188360e-02 -2.13753767e-02 -9.17386189e-02\n",
      "  -1.11345146e-02 -2.96065882e-02  2.46458109e-02  4.65713628e-03\n",
      "  -1.63449794e-02 -3.95219512e-02  7.73373693e-02 -2.84732785e-02\n",
      "  -3.69938067e-03  8.27665254e-02 -1.10408925e-02  3.13983336e-02\n",
      "   5.35094738e-02  5.75145930e-02 -3.17622237e-02 -1.52911266e-08\n",
      "  -7.99661204e-02 -4.76797186e-02 -8.59788507e-02  5.69616482e-02\n",
      "  -4.08866331e-02  2.23832466e-02 -4.64445865e-03 -3.80130783e-02\n",
      "  -3.10671106e-02 -1.07278014e-02  1.97698809e-02  7.77001306e-03\n",
      "  -6.09476073e-03 -3.86376120e-02  2.80271824e-02  6.78137690e-02\n",
      "  -2.35351678e-02  3.21747586e-02  8.02536029e-03 -2.39107311e-02\n",
      "  -1.21994514e-03  3.14598940e-02 -5.24923950e-02 -8.06813315e-03\n",
      "   3.14771244e-03  5.11496328e-02 -4.44104336e-02  6.36013001e-02\n",
      "   3.85083668e-02  3.30433063e-02 -4.18727705e-03  4.95592766e-02\n",
      "  -5.69605157e-02 -6.49713958e-03 -2.49793120e-02 -1.60867088e-02\n",
      "   6.62289709e-02 -2.06310768e-02  1.08045742e-01  1.68547034e-02\n",
      "   1.43812597e-02 -1.32127320e-02 -1.29387394e-01  6.95216432e-02\n",
      "  -5.55772893e-02 -6.75413162e-02 -5.45819197e-03 -6.13593776e-03\n",
      "   3.90840508e-02 -6.28779382e-02  3.74063514e-02 -1.16570871e-02\n",
      "   1.29150450e-02 -5.52495420e-02  5.16076051e-02 -4.30841651e-03\n",
      "   5.80247901e-02  1.86944753e-02  2.27810368e-02  3.21665145e-02\n",
      "   5.37979044e-02  7.02849105e-02  7.49312118e-02 -8.41774866e-02]]\n"
     ]
    }
   ],
   "source": [
    "from sentence_transformers import SentenceTransformer\n",
    "sentences = [\"This is an example sentence\", \"Each sentence is converted\"]\n",
    "\n",
    "model = SentenceTransformer('sentence-transformers/all-MiniLM-L6-v2')\n",
    "embeddings = model.encode(sentences)\n",
    "print(embeddings)"
   ]
  },
  {
   "cell_type": "code",
   "execution_count": 9,
   "id": "d97c4923",
   "metadata": {},
   "outputs": [
    {
     "name": "stderr",
     "output_type": "stream",
     "text": [
      "Using a slow image processor as `use_fast` is unset and a slow processor was saved with this model. `use_fast=True` will be the default behavior in v4.52, even if the model was saved with a slow processor. This will result in minor differences in outputs. You'll still be able to use a slow processor with `use_fast=False`.\n",
      "Device set to use cpu\n"
     ]
    },
    {
     "data": {
      "text/plain": [
       "[{'label': 'normal', 'score': 0.9998260140419006},\n",
       " {'label': 'nsfw', 'score': 0.00017402302182745188}]"
      ]
     },
     "execution_count": 9,
     "metadata": {},
     "output_type": "execute_result"
    }
   ],
   "source": [
    "\n",
    "# Use a pipeline as a high-level helper\n",
    "from PIL import Image\n",
    "from transformers import pipeline\n",
    "\n",
    "img = Image.open(r\"C:\\Users\\ravia\\OneDrive\\Pictures\\lord-krishna-5120x2880-18377.jpg\")\n",
    "classifier = pipeline(\"image-classification\", model=\"Falconsai/nsfw_image_detection\")\n",
    "classifier(img)\n"
   ]
  },
  {
   "cell_type": "code",
   "execution_count": 8,
   "id": "4fc76800",
   "metadata": {},
   "outputs": [
    {
     "name": "stderr",
     "output_type": "stream",
     "text": [
      "d:\\Learning\\lenv\\Lib\\site-packages\\huggingface_hub\\file_download.py:143: UserWarning: `huggingface_hub` cache-system uses symlinks by default to efficiently store duplicated files but your machine does not support them in C:\\Users\\ravia\\.cache\\huggingface\\hub\\models--Falconsai--nsfw_image_detection. Caching files will still work but in a degraded version that might require more space on your disk. This warning can be disabled by setting the `HF_HUB_DISABLE_SYMLINKS_WARNING` environment variable. For more details, see https://huggingface.co/docs/huggingface_hub/how-to-cache#limitations.\n",
      "To support symlinks on Windows, you either need to activate Developer Mode or to run Python as an administrator. In order to activate developer mode, see this article: https://docs.microsoft.com/en-us/windows/apps/get-started/enable-your-device-for-development\n",
      "  warnings.warn(message)\n"
     ]
    },
    {
     "data": {
      "text/plain": [
       "'normal'"
      ]
     },
     "execution_count": 8,
     "metadata": {},
     "output_type": "execute_result"
    }
   ],
   "source": [
    "\n",
    "# Load model directly\n",
    "import torch\n",
    "from PIL import Image\n",
    "from transformers import AutoModelForImageClassification, ViTImageProcessor\n",
    "\n",
    "img = Image.open(r'C:\\Users\\ravia\\OneDrive\\Pictures\\lord-krishna-5120x2880-18377.jpg')\n",
    "model = AutoModelForImageClassification.from_pretrained(\"Falconsai/nsfw_image_detection\")\n",
    "processor = ViTImageProcessor.from_pretrained('Falconsai/nsfw_image_detection')\n",
    "with torch.no_grad():\n",
    "    inputs = processor(images=img, return_tensors=\"pt\")\n",
    "    outputs = model(**inputs)\n",
    "    logits = outputs.logits\n",
    "\n",
    "predicted_label = logits.argmax(-1).item()\n",
    "model.config.id2label[predicted_label]\n"
   ]
  },
  {
   "cell_type": "code",
   "execution_count": null,
   "id": "827a12ac",
   "metadata": {},
   "outputs": [],
   "source": []
  }
 ],
 "metadata": {
  "kernelspec": {
   "display_name": "lenv",
   "language": "python",
   "name": "python3"
  },
  "language_info": {
   "codemirror_mode": {
    "name": "ipython",
    "version": 3
   },
   "file_extension": ".py",
   "mimetype": "text/x-python",
   "name": "python",
   "nbconvert_exporter": "python",
   "pygments_lexer": "ipython3",
   "version": "3.12.10"
  }
 },
 "nbformat": 4,
 "nbformat_minor": 5
}
